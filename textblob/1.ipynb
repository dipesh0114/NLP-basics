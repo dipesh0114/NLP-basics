{
 "cells": [
  {
   "cell_type": "code",
   "execution_count": 1,
   "id": "0c9d0334",
   "metadata": {},
   "outputs": [],
   "source": [
    "from textblob import TextBlob"
   ]
  },
  {
   "cell_type": "code",
   "execution_count": null,
   "id": "e2500871",
   "metadata": {},
   "outputs": [],
   "source": [
    "b = TextBlob()"
   ]
  }
 ],
 "metadata": {
  "kernelspec": {
   "display_name": "my_project_env (3.12.1)",
   "language": "python",
   "name": "python3"
  },
  "language_info": {
   "codemirror_mode": {
    "name": "ipython",
    "version": 3
   },
   "file_extension": ".py",
   "mimetype": "text/x-python",
   "name": "python",
   "nbconvert_exporter": "python",
   "pygments_lexer": "ipython3",
   "version": "3.12.1"
  }
 },
 "nbformat": 4